{
  "nbformat": 4,
  "nbformat_minor": 0,
  "metadata": {
    "colab": {
      "name": "Handwritting_Project_Guassian_Bayes.ipynb",
      "provenance": [],
      "collapsed_sections": [],
      "mount_file_id": "1fCWTbccZ0ikps3-L8fhsIa-9kzj8MdBK",
      "authorship_tag": "ABX9TyNhtoziIAPo59T4gnOPzm3w",
      "include_colab_link": true
    },
    "kernelspec": {
      "name": "python3",
      "display_name": "Python 3"
    }
  },
  "cells": [
    {
      "cell_type": "markdown",
      "metadata": {
        "id": "view-in-github",
        "colab_type": "text"
      },
      "source": [
        "<a href=\"https://colab.research.google.com/github/GarethCW/GCW/blob/master/Handwritting_Project_Guassian_Bayes.ipynb\" target=\"_parent\"><img src=\"https://colab.research.google.com/assets/colab-badge.svg\" alt=\"Open In Colab\"/></a>"
      ]
    },
    {
      "cell_type": "markdown",
      "metadata": {
        "id": "9E99XaSKbTrw",
        "colab_type": "text"
      },
      "source": [
        "# Identifying Written Numbers using Guassian Bayes"
      ]
    },
    {
      "cell_type": "code",
      "metadata": {
        "id": "4yEkqKcVbFNs",
        "colab_type": "code",
        "colab": {}
      },
      "source": [
        "import pandas as pd\n",
        "import numpy as np\n",
        "import matplotlib.pyplot as plt\n",
        "from scipy.stats import multivariate_normal as mvn\n",
        "import os\n",
        "from sklearn.model_selection import train_test_split\n",
        "import random\n",
        "from PIL import Image\n",
        "import seaborn as sns\n",
        "\n",
        "\n"
      ],
      "execution_count": 0,
      "outputs": []
    },
    {
      "cell_type": "code",
      "metadata": {
        "id": "YUOpU2SpcGUQ",
        "colab_type": "code",
        "colab": {}
      },
      "source": [
        "data = pd.read_csv('train.csv')\n",
        "data.head()\n",
        "X = data.to_numpy()\n",
        "X = X[:,3:-1]\n",
        "y = data.to_numpy()\n",
        "y = y[:,-1]\n",
        "\n",
        "data = pd.read_csv('test.csv')\n",
        "X_test = data.to_numpy()\n",
        "X_test = X_test[:,3:-1]\n",
        "y_test = data.to_numpy()\n",
        "y_test = y_test[:,-1]\n",
        "\n",
        "\n",
        "data = [] #Clears to save space"
      ],
      "execution_count": 0,
      "outputs": []
    },
    {
      "cell_type": "markdown",
      "metadata": {
        "id": "TZtd50Knz47v",
        "colab_type": "text"
      },
      "source": [
        "# Images of the handwritings"
      ]
    },
    {
      "cell_type": "markdown",
      "metadata": {
        "id": "rpzNZkNNz84j",
        "colab_type": "text"
      },
      "source": [
        "Reshaping the 784x1 array to a 28x28 matrix so you can display the image."
      ]
    },
    {
      "cell_type": "code",
      "metadata": {
        "id": "m5iyPj__00bc",
        "colab_type": "code",
        "outputId": "41ba4c77-0c6f-4aac-b38e-c6d770986709",
        "colab": {
          "base_uri": "https://localhost:8080/",
          "height": 353
        }
      },
      "source": [
        "image = plt.figure(figsize=(15,6))\n",
        "for k in range(10):\n",
        "  X_i = [0]*784\n",
        "  for i in range(len(y)):\n",
        "    if y[i] == k:\n",
        "      X_i = X[i,:]\n",
        "      X_i = np.reshape(X_i,(28,28))\n",
        "      plt.subplot(2, 5, k+1)\n",
        "      plt.imshow(X_i, cmap='Greys',  interpolation='nearest')\n",
        "      plt.axis('off')\n",
        "      break\n",
        "plt.show()"
      ],
      "execution_count": 3,
      "outputs": [
        {
          "output_type": "display_data",
          "data": {
            "image/png": "[encoded data removed]",
            "text/plain": [
              "<Figure size 1080x432 with 10 Axes>"
            ]
          },
          "metadata": {
            "tags": []
          }
        }
      ]
    },
    {
      "cell_type": "markdown",
      "metadata": {
        "id": "PbINk6kE2o91",
        "colab_type": "text"
      },
      "source": [
        "#Naive Bayes Class"
      ]
    },
    {
      "cell_type": "markdown",
      "metadata": {
        "id": "yTKlMhXOURvs",
        "colab_type": "text"
      },
      "source": [
        "Given a vector with a value to represent certain features, Naive Bayes will be able to make a decision on which number is which using the mean and varience from the vector given to it. "
      ]
    },
    {
      "cell_type": "code",
      "metadata": {
        "id": "KZCOqhMA2sk9",
        "colab_type": "code",
        "colab": {}
      },
      "source": [
        "class NaiveB:\n",
        "  def fit(self, X, y, epsilon = 1175):\n",
        "    N, D = X.shape\n",
        "    self.likelihoods = dict()\n",
        "    self.priors = dict()\n",
        "    self.K = set(y.astype(int))\n",
        "\n",
        "    for k in self.K:\n",
        "      X_k = X[y==k,:]\n",
        "      self.likelihoods[k] = {'mean': X_k.mean(axis =0), 'covarience' : X_k.var(axis = 0) + epsilon}\n",
        "      self.priors[k] = len(X_k)/len(X)\n",
        "\n",
        "  def predict(self, X):\n",
        "    N, D = X.shape\n",
        "    P_hat = np.zeros((N, len(self.K)))\n",
        "\n",
        "    for k, l in self.likelihoods.items():\n",
        "      P_hat[:,k] = mvn.logpdf(X, l['mean'],l['covarience']) + np.log(self.priors[k]) #This p_hat formula\n",
        "    \n",
        "    return P_hat.argmax(axis = 1)"
      ],
      "execution_count": 0,
      "outputs": []
    },
    {
      "cell_type": "markdown",
      "metadata": {
        "id": "C4amWWl1b98a",
        "colab_type": "text"
      },
      "source": [
        "#Guassian Naive Bayes Class"
      ]
    },
    {
      "cell_type": "markdown",
      "metadata": {
        "id": "MbwvWj_7RO8k",
        "colab_type": "text"
      },
      "source": [
        "Instead of using just the mean and varience, like in the previous Naive Bayes algorthim above. The Guassian method normalizes the data and from the probability distribution of features in certain classes, Gaussian Naive Bayes acan make a decision on which number it is by picking the the number that has the highest probability. This method is know to be best at image recognition."
      ]
    },
    {
      "cell_type": "code",
      "metadata": {
        "id": "8KB1ykOIcIDE",
        "colab_type": "code",
        "colab": {}
      },
      "source": [
        "class GuassNB:\n",
        "  def fit(self, X, y, epsilon = 1175):\n",
        "    N, D = X.shape\n",
        "    self.likelihoods = dict()\n",
        "    self.priors = dict()\n",
        "    self.K = set(y.astype(int))\n",
        "\n",
        "    for k in self.K:\n",
        "      X_k = X[y==k,:]\n",
        "      mu_k = X_k.mean(axis=0)\n",
        "      self.likelihoods[k] = {'mean': X_k.mean(axis=0), 'covarience': (1/(N-1))*np.matmul((X_k - mu_k).T, X_k-mu_k) + epsilon*np.identity(D)}\n",
        "      self.priors[k] = len(X_k)/len(X)\n",
        "\n",
        "  def predict(self, X):\n",
        "    N, D = X.shape\n",
        "    P_hat = np.zeros((N, len(self.K)))\n",
        "\n",
        "    for k, l in self.likelihoods.items():\n",
        "      P_hat[:,k] = mvn.logpdf(X, l['mean'],l['covarience']) + np.log(self.priors[k]) #This p_hat formula\n",
        "    \n",
        "    return P_hat.argmax(axis = 1)\n",
        "\n",
        "  def confusion_matrix(self,X,y):\n",
        "    n = 10\n",
        "    matrix = np.zeros((n,n))\n",
        "    for k in range(n):\n",
        "      for i in range(n):\n",
        "         matrix[k][i] = sum(X[y==i])\n",
        "      matrix[k][:] = matrix[k][:]/sum(matrix[k][:])\n",
        "    return matrix\n",
        "\n"
      ],
      "execution_count": 0,
      "outputs": []
    },
    {
      "cell_type": "markdown",
      "metadata": {
        "id": "nnEtVkXj2YDn",
        "colab_type": "text"
      },
      "source": [
        "#Bernoulli Naive Bayes Class"
      ]
    },
    {
      "cell_type": "markdown",
      "metadata": {
        "id": "pp4ekrA1Voq2",
        "colab_type": "text"
      },
      "source": [
        "Bernoulli Naive Bayes requires a binary data set in order for it to function. Although it is not the best method compared to the Gaussian method, its true strength is in text reading. For example, documents with certain words appearing being labeled as \"1\" or \"0\" can help identify if a document is spam or not spam."
      ]
    },
    {
      "cell_type": "code",
      "metadata": {
        "id": "vPJIIdMwO3Tw",
        "colab_type": "code",
        "colab": {}
      },
      "source": [
        "class BernNB:\n",
        "  def fit(self, X, y, epsilon = 1e-10):\n",
        "    N, D = X.shape\n",
        "    self.likelihoods = dict()\n",
        "    self.priors = dict()\n",
        "    self.K = set(y.astype(int))\n",
        "\n",
        "    for k in self.K:\n",
        "      X_k = X[y==k,:]\n",
        "      p = (sum(X_k)+1)/(len(X_k)+2) # Look this up, it is a statisics thing I forgot the name of\n",
        "      self.likelihoods[k] = {'mean': p, 'cov': p * (1 - p) + epsilon}\n",
        "      self.priors[k] = len(X_k)/len(X)\n",
        "\n",
        "\n",
        "  def predict(self, X):\n",
        "    N, D = X.shape\n",
        "    P_hat = np.zeros((N, len(self.K)))\n",
        "\n",
        "    for k, l in self.likelihoods.items():\n",
        "      # Using the Bernouille function/formula. Trick is to get the matrix/vectors to go from mxn to a 1x1 number for each k value.\n",
        "      P_hat[:,k] = np.log(self.priors[k]) + np.matmul(X, np.log(l['mean'])) + np.matmul((1 - X), np.log(abs(1-l['mean'])))\n",
        "    \n",
        "    return P_hat.argmax(axis = 1)\n"
      ],
      "execution_count": 0,
      "outputs": []
    },
    {
      "cell_type": "code",
      "metadata": {
        "id": "CKYZtk3zcKlR",
        "colab_type": "code",
        "colab": {}
      },
      "source": [
        "def accuracy(y, y_hat): #This is our function to find accuracy\n",
        "  return np.mean(y == y_hat)"
      ],
      "execution_count": 0,
      "outputs": []
    },
    {
      "cell_type": "markdown",
      "metadata": {
        "id": "GhxkYAVxcTsP",
        "colab_type": "text"
      },
      "source": [
        "## Images of Averages for each Number"
      ]
    },
    {
      "cell_type": "code",
      "metadata": {
        "id": "kr4zkVAfGeUD",
        "colab_type": "code",
        "outputId": "61d6b1f5-5e7f-40e6-b862-6dc0e14b50d3",
        "colab": {
          "base_uri": "https://localhost:8080/",
          "height": 353
        }
      },
      "source": [
        "image = plt.figure(figsize=(15,6))\n",
        "for k in range(10):\n",
        "  count = 0\n",
        "  X_i = [0]*784\n",
        "  for i in range(len(y)):\n",
        "    if y[i] == k:\n",
        "      X_i += X[i,:]\n",
        "      count += 1\n",
        "  X_i = X_i/count\n",
        "  X_i = np.reshape(X_i,(28,28))\n",
        "  plt.subplot(2, 5, k+1)\n",
        "  plt.imshow(X_i, cmap='Greys',  interpolation='nearest')\n",
        "  plt.axis('off')\n",
        "\n",
        "plt.show()"
      ],
      "execution_count": 8,
      "outputs": [
        {
          "output_type": "display_data",
          "data": {
            "image/png": "[encoded data removed]",
            "text/plain": [
              "<Figure size 1080x432 with 10 Axes>"
            ]
          },
          "metadata": {
            "tags": []
          }
        }
      ]
    },
    {
      "cell_type": "markdown",
      "metadata": {
        "id": "QVrh3gnMlKt-",
        "colab_type": "text"
      },
      "source": [
        "#Naive Bayes Accuracy (81.38%)"
      ]
    },
    {
      "cell_type": "code",
      "metadata": {
        "id": "Df4TwBdGlJc0",
        "colab_type": "code",
        "colab": {
          "base_uri": "https://localhost:8080/",
          "height": 34
        },
        "outputId": "377ad582-dd3e-4fb3-c7ed-149a704764bc"
      },
      "source": [
        "nb = NaiveB()\n",
        "nb.fit(X,y) #Use the X and Y Training set here\n",
        "y_hat = nb.predict(X_test) #Use the X Test set here\n",
        "print(accuracy(y_test,y_hat)) #0.9606 at e = 1175"
      ],
      "execution_count": 9,
      "outputs": [
        {
          "output_type": "stream",
          "text": [
            "0.8138\n"
          ],
          "name": "stdout"
        }
      ]
    },
    {
      "cell_type": "markdown",
      "metadata": {
        "id": "ZOSlWkzZdXXl",
        "colab_type": "text"
      },
      "source": [
        "# Guassian Naive Bayes Accuracy (96.06%)"
      ]
    },
    {
      "cell_type": "code",
      "metadata": {
        "id": "nNVW-etbdfIN",
        "colab_type": "code",
        "colab": {
          "base_uri": "https://localhost:8080/",
          "height": 34
        },
        "outputId": "de6dab85-ced5-4ef0-f643-0369bada12ab"
      },
      "source": [
        "gnb = GuassNB()\n",
        "gnb.fit(X,y) #Use the X and Y Training set here\n",
        "y_hat = gnb.predict(X_test) #Use the X Test set here\n",
        "print(accuracy(y_test,y_hat)) #0.9606 at e = 1175"
      ],
      "execution_count": 10,
      "outputs": [
        {
          "output_type": "stream",
          "text": [
            "0.9606\n"
          ],
          "name": "stdout"
        }
      ]
    },
    {
      "cell_type": "markdown",
      "metadata": {
        "id": "-MHdCKLYWIsd",
        "colab_type": "text"
      },
      "source": [
        "Below will find all the error looking numbers and convert it to image files"
      ]
    },
    {
      "cell_type": "code",
      "metadata": {
        "id": "DBZ3Ii1CPGIg",
        "colab_type": "code",
        "colab": {}
      },
      "source": [
        "#image = plt.figure(figsize=(15,6))\n",
        "#for i in range(lens(X_test)):\n",
        "#  X_i = [0]*784\n",
        "#  if y_test[i] != y_hat[i]:\n",
        "#    X_i = X_test[i,:]\n",
        "#    X_i = np.reshape(X_i,(28,28))\n",
        "#    plt.imshow(X_i, cmap='Greys',  interpolation='nearest')\n",
        "#    plt.axis('off')\n",
        "#    plt.show()"
      ],
      "execution_count": 0,
      "outputs": []
    },
    {
      "cell_type": "markdown",
      "metadata": {
        "id": "Mr-oHLXAEbBf",
        "colab_type": "text"
      },
      "source": [
        "#Bernoulli Naive Bayes Method (84.44%)"
      ]
    },
    {
      "cell_type": "markdown",
      "metadata": {
        "id": "ZqDve3AJEeY9",
        "colab_type": "text"
      },
      "source": [
        "Convert X data into a binary form. Any x value less than 127 will be 0 and anything above 127 will be 1."
      ]
    },
    {
      "cell_type": "code",
      "metadata": {
        "id": "SgBcw2VaEvxW",
        "colab_type": "code",
        "colab": {}
      },
      "source": [
        "# This will quickly change all the variables to a 0 or 1 within a certain range\n",
        "X[np.where(X <= 100)] = 0\n",
        "X[np.where(X > 100)] = 1\n",
        "X_test[np.where(X_test <=100)] = 0\n",
        "X_test[np.where(X_test > 100)] = 1\n"
      ],
      "execution_count": 0,
      "outputs": []
    },
    {
      "cell_type": "code",
      "metadata": {
        "id": "8i7eMPTOVhLk",
        "colab_type": "code",
        "colab": {
          "base_uri": "https://localhost:8080/",
          "height": 34
        },
        "outputId": "9c205e8a-e908-4d5d-9720-d633ade66b4e"
      },
      "source": [
        "bnb = BernNB()\n",
        "bnb.fit(X,y) #Use the X and Y Training set here\n",
        "y_hat = bnb.predict(X_test) #Use the X Test set here\n",
        "print(accuracy(y_test,y_hat)) #0.9606 at e = 1175"
      ],
      "execution_count": 13,
      "outputs": [
        {
          "output_type": "stream",
          "text": [
            "0.8444\n"
          ],
          "name": "stdout"
        }
      ]
    },
    {
      "cell_type": "markdown",
      "metadata": {
        "id": "LL0osGDhdqjm",
        "colab_type": "text"
      },
      "source": [
        "### Conclusion"
      ]
    },
    {
      "cell_type": "markdown",
      "metadata": {
        "id": "j3zRrDh0drqU",
        "colab_type": "text"
      },
      "source": [
        "In conclusion, Guassian Naive Bayes was the most accurate algorthim to identify the numbers from handwritten files. "
      ]
    }
  ]
}